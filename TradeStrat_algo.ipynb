{
  "nbformat": 4,
  "nbformat_minor": 0,
  "metadata": {
    "colab": {
      "provenance": [],
      "authorship_tag": "ABX9TyOALwAA8nslhqYz1hxSkFcH",
      "include_colab_link": true
    },
    "kernelspec": {
      "name": "python3",
      "display_name": "Python 3"
    },
    "language_info": {
      "name": "python"
    }
  },
  "cells": [
    {
      "cell_type": "markdown",
      "metadata": {
        "id": "view-in-github",
        "colab_type": "text"
      },
      "source": [
        "<a href=\"https://colab.research.google.com/github/evennybo/AlgoTrade/blob/main/TradeStrat_algo.ipynb\" target=\"_parent\"><img src=\"https://colab.research.google.com/assets/colab-badge.svg\" alt=\"Open In Colab\"/></a>"
      ]
    },
    {
      "cell_type": "code",
      "execution_count": null,
      "metadata": {
        "colab": {
          "base_uri": "https://localhost:8080/",
          "height": 458
        },
        "id": "InozlfvsHUSe",
        "outputId": "de47abc2-eb10-4af0-bc85-7b744ae6353d"
      },
      "outputs": [
        {
          "output_type": "stream",
          "name": "stdout",
          "text": [
            "\r[*********************100%***********************]  1 of 1 completed\n"
          ]
        },
        {
          "output_type": "execute_result",
          "data": {
            "text/plain": [
              "<Axes: xlabel='Date'>"
            ]
          },
          "metadata": {},
          "execution_count": 1
        },
        {
          "output_type": "display_data",
          "data": {
            "text/plain": [
              "<Figure size 640x480 with 1 Axes>"
            ],
            "image/png": "[encoded data removed]"
          },
          "metadata": {}
        }
      ],
      "source": [
        "import pandas as pd\n",
        "import numpy as np\n",
        "import yfinance as yf\n",
        "# Download the stock price data from yfinance\n",
        "df = yf.download(\"TSLA\", start=\"2015-01-01\", end=\"2023-03-31\")\n",
        "\n",
        "\n",
        "# Compute the 20-day and 50-day moving averages\n",
        "df['ma20'] = df['Close'].rolling(window=20).mean()\n",
        "df['ma50'] = df['Close'].rolling(window=50).mean()\n",
        "\n",
        "# Compute the 20-day standard deviation\n",
        "df['stddev'] = df['Close'].rolling(window=20).std()\n",
        "\n",
        "# Compute the Bollinger Bands\n",
        "df['upper_band'] = df['ma20'] + 2 * df['stddev']\n",
        "df['lower_band'] = df['ma20'] - 2 * df['stddev']\n",
        "\n",
        "# Compute the MACD (12-day and 26-day exponential moving averages)\n",
        "df['ema12'] = df['Close'].ewm(span=12).mean()\n",
        "df['ema26'] = df['Close'].ewm(span=26).mean()\n",
        "df['macd'] = df['ema12'] - df['ema26']\n",
        "\n",
        "# Compute the 9-day EMA of the MACD\n",
        "df['signal'] = df['macd'].ewm(span=9).mean()\n",
        "\n",
        "# Compute the RSI (14-day relative strength index)\n",
        "delta = df['Close'].diff()\n",
        "gain = delta.where(delta > 0, 0)\n",
        "loss = -delta.where(delta < 0, 0)\n",
        "avg_gain = gain.rolling(window=14).mean()\n",
        "avg_loss = loss.rolling(window=14).mean()\n",
        "rs = avg_gain / avg_loss\n",
        "df['rsi'] = 100 - (100 / (1 + rs))\n",
        "\n",
        "# Implement the trading strategy\n",
        "df['position'] = np.where(df['Close'] > df['upper_band'], -1, 0)\n",
        "df['position'] = np.where(df['Close'] < df['lower_band'], 1, df['position'])\n",
        "df['position'] = np.where(df['macd'] > df['signal'], 1, df['position'])\n",
        "df['position'] = np.where(df['macd'] < df['signal'], -1, df['position'])\n",
        "df['position'] = np.where(df['rsi'] > 70, -1, df['position'])\n",
        "df['position'] = np.where(df['rsi'] < 30, 1, df['position'])\n",
        "df['position'] = df['position'].ffill().fillna(0)\n",
        "\n",
        "# Compute the daily returns\n",
        "df['returns'] = df['Close'].pct_change() * df['position'].shift(1)\n",
        "\n",
        "# Compute the cumulative returns\n",
        "df['cumulative_returns'] = (1 + df['returns']).cumprod()\n",
        "\n",
        "# Plot the cumulative returns\n",
        "df['cumulative_returns'].plot()"
      ]
    },
    {
      "cell_type": "code",
      "source": [
        "!sudo apt-get install python3-dev"
      ],
      "metadata": {
        "colab": {
          "base_uri": "https://localhost:8080/"
        },
        "id": "WJhszWnUIQC5",
        "outputId": "84757a8b-3ed8-49d2-e562-267491a96c45"
      },
      "execution_count": null,
      "outputs": [
        {
          "output_type": "stream",
          "name": "stdout",
          "text": [
            "Reading package lists... Done\n",
            "Building dependency tree       \n",
            "Reading state information... Done\n",
            "python3-dev is already the newest version (3.8.2-0ubuntu2).\n",
            "python3-dev set to manually installed.\n",
            "0 upgraded, 0 newly installed, 0 to remove and 24 not upgraded.\n"
          ]
        }
      ]
    },
    {
      "cell_type": "code",
      "source": [
        "!python3 -m pip install ta-lib"
      ],
      "metadata": {
        "colab": {
          "base_uri": "https://localhost:8080/"
        },
        "id": "Ln4CztBhJp7_",
        "outputId": "326cbdb4-8c16-427d-c121-94e08a6f693d"
      },
      "execution_count": null,
      "outputs": [
        {
          "output_type": "stream",
          "name": "stdout",
          "text": [
            "Looking in indexes: https://pypi.org/simple, https://us-python.pkg.dev/colab-wheels/public/simple/\n",
            "Collecting ta-lib\n",
            "  Using cached TA-Lib-0.4.26.tar.gz (272 kB)\n",
            "  Installing build dependencies ... \u001b[?25l\u001b[?25hdone\n",
            "  Getting requirements to build wheel ... \u001b[?25l\u001b[?25hdone\n",
            "  Installing backend dependencies ... \u001b[?25l\u001b[?25hdone\n",
            "  Preparing metadata (pyproject.toml) ... \u001b[?25l\u001b[?25hdone\n",
            "Requirement already satisfied: numpy in /usr/local/lib/python3.9/dist-packages (from ta-lib) (1.22.4)\n",
            "Building wheels for collected packages: ta-lib\n",
            "  \u001b[1;31merror\u001b[0m: \u001b[1msubprocess-exited-with-error\u001b[0m\n",
            "  \n",
            "  \u001b[31m×\u001b[0m \u001b[32mBuilding wheel for ta-lib \u001b[0m\u001b[1;32m(\u001b[0m\u001b[32mpyproject.toml\u001b[0m\u001b[1;32m)\u001b[0m did not run successfully.\n",
            "  \u001b[31m│\u001b[0m exit code: \u001b[1;36m1\u001b[0m\n",
            "  \u001b[31m╰─>\u001b[0m See above for output.\n",
            "  \n",
            "  \u001b[1;35mnote\u001b[0m: This error originates from a subprocess, and is likely not a problem with pip.\n",
            "  Building wheel for ta-lib (pyproject.toml) ... \u001b[?25l\u001b[?25herror\n",
            "\u001b[31m  ERROR: Failed building wheel for ta-lib\u001b[0m\u001b[31m\n",
            "\u001b[0mFailed to build ta-lib\n",
            "\u001b[31mERROR: Could not build wheels for ta-lib, which is required to install pyproject.toml-based projects\u001b[0m\u001b[31m\n",
            "\u001b[0m"
          ]
        }
      ]
    },
    {
      "cell_type": "code",
      "source": [
        "!sudo pip3 install ta-lib --no-binary :all:"
      ],
      "metadata": {
        "colab": {
          "base_uri": "https://localhost:8080/"
        },
        "id": "p_vDKeUBMJrb",
        "outputId": "9df1470d-f020-4be7-c7e0-ccaad1ef0d43"
      },
      "execution_count": null,
      "outputs": [
        {
          "output_type": "stream",
          "name": "stdout",
          "text": [
            "\u001b[33mDEPRECATION: --no-binary currently disables reading from the cache of locally built wheels. In the future --no-binary will not influence the wheel cache. pip 23.1 will enforce this behaviour change. A possible replacement is to use the --no-cache-dir option. You can use the flag --use-feature=no-binary-enable-wheel-cache to test the upcoming behaviour. Discussion can be found at https://github.com/pypa/pip/issues/11453\u001b[0m\u001b[33m\n",
            "\u001b[0mLooking in indexes: https://pypi.org/simple, https://us-python.pkg.dev/colab-wheels/public/simple/\n",
            "Collecting ta-lib\n",
            "  Using cached TA-Lib-0.4.26.tar.gz (272 kB)\n",
            "  Installing build dependencies ... \u001b[?25l\u001b[?25hdone\n",
            "  Getting requirements to build wheel ... \u001b[?25l\u001b[?25hdone\n",
            "\u001b[31mERROR: Operation cancelled by user\u001b[0m\u001b[31m\n",
            "\u001b[0m  Installing backend dependencies ... \u001b[?25l\u001b[?25hTraceback (most recent call last):\n",
            "  File \"/usr/local/bin/pip3\", line 8, in <module>\n",
            "    sys.exit(main())\n",
            "  File \"/usr/local/lib/python3.9/dist-packages/pip/_internal/cli/main.py\", line 70, in main\n",
            "    return command.main(cmd_args)\n",
            "  File \"/usr/local/lib/python3.9/dist-packages/pip/_internal/cli/base_command.py\", line 101, in main\n",
            "    return self._main(args)\n",
            "  File \"/usr/lib/python3.9/contextlib.py\", line 126, in __exit__\n",
            "    next(self.gen)\n",
            "  File \"/usr/local/lib/python3.9/dist-packages/pip/_internal/cli/command_context.py\", line 20, in main_context\n",
            "    yield\n",
            "  File \"/usr/lib/python3.9/contextlib.py\", line 532, in __exit__\n",
            "    raise exc_details[1]\n",
            "  File \"/usr/lib/python3.9/contextlib.py\", line 137, in __exit__\n",
            "    self.gen.throw(typ, value, traceback)\n",
            "  File \"/usr/local/lib/python3.9/dist-packages/pip/_internal/utils/temp_dir.py\", line 70, in tempdir_registry\n",
            "    yield _tempdir_registry\n",
            "  File \"/usr/lib/python3.9/contextlib.py\", line 517, in __exit__\n",
            "    if cb(*exc_details):\n",
            "  File \"/usr/lib/python3.9/contextlib.py\", line 126, in __exit__\n",
            "    next(self.gen)\n",
            "  File \"/usr/local/lib/python3.9/dist-packages/pip/_internal/utils/temp_dir.py\", line 36, in global_tempdir_manager\n",
            "    _tempdir_manager = old_tempdir_manager\n",
            "  File \"/usr/lib/python3.9/contextlib.py\", line 532, in __exit__\n",
            "    raise exc_details[1]\n",
            "  File \"/usr/lib/python3.9/contextlib.py\", line 517, in __exit__\n",
            "    if cb(*exc_details):\n",
            "  File \"/usr/local/lib/python3.9/dist-packages/pip/_internal/utils/temp_dir.py\", line 156, in __exit__\n",
            "    self.cleanup()\n",
            "  File \"/usr/local/lib/python3.9/dist-packages/pip/_internal/utils/temp_dir.py\", line 173, in cleanup\n",
            "    rmtree(self._path)\n",
            "  File \"/usr/local/lib/python3.9/dist-packages/pip/_vendor/tenacity/__init__.py\", line 328, in wrapped_f\n",
            "    return self(f, *args, **kw)\n",
            "  File \"/usr/local/lib/python3.9/dist-packages/pip/_vendor/tenacity/__init__.py\", line 408, in __call__\n",
            "    do = self.iter(retry_state=retry_state)\n",
            "  File \"/usr/local/lib/python3.9/dist-packages/pip/_vendor/tenacity/__init__.py\", line 353, in iter\n",
            "    return fut.result()\n",
            "  File \"/usr/lib/python3.9/concurrent/futures/_base.py\", line 439, in result\n",
            "    return self.__get_result()\n",
            "  File \"/usr/lib/python3.9/concurrent/futures/_base.py\", line 391, in __get_result\n",
            "    raise self._exception\n",
            "  File \"/usr/local/lib/python3.9/dist-packages/pip/_vendor/tenacity/__init__.py\", line 411, in __call__\n",
            "    result = fn(*args, **kwargs)\n",
            "  File \"/usr/local/lib/python3.9/dist-packages/pip/_internal/utils/misc.py\", line 129, in rmtree\n",
            "    shutil.rmtree(dir, ignore_errors=ignore_errors, onerror=rmtree_errorhandler)\n",
            "  File \"/usr/lib/python3.9/shutil.py\", line 734, in rmtree\n",
            "    _rmtree_safe_fd(fd, path, onerror)\n",
            "  File \"/usr/lib/python3.9/shutil.py\", line 667, in _rmtree_safe_fd\n",
            "    _rmtree_safe_fd(dirfd, fullname, onerror)\n",
            "  File \"/usr/lib/python3.9/shutil.py\", line 667, in _rmtree_safe_fd\n",
            "    _rmtree_safe_fd(dirfd, fullname, onerror)\n",
            "  File \"/usr/lib/python3.9/shutil.py\", line 667, in _rmtree_safe_fd\n",
            "    _rmtree_safe_fd(dirfd, fullname, onerror)\n",
            "  [Previous line repeated 3 more times]\n",
            "  File \"/usr/lib/python3.9/shutil.py\", line 671, in _rmtree_safe_fd\n",
            "    os.rmdir(entry.name, dir_fd=topfd)\n",
            "KeyboardInterrupt\n",
            "^C\n"
          ]
        }
      ]
    },
    {
      "cell_type": "code",
      "source": [
        "import pandas as pd\n",
        "import numpy as np\n",
        "import talib\n",
        "\n",
        "# Define function to calculate the moving average\n",
        "def moving_average(data, window):\n",
        "    return talib.SMA(data, window)\n",
        "\n",
        "# Define function to calculate the RSI\n",
        "def relative_strength_index(data, window):\n",
        "    return talib.RSI(data, window)\n",
        "\n",
        "# Define function to calculate the Bollinger Bands\n",
        "def bollinger_bands(data, window):\n",
        "    sma = moving_average(data, window)\n",
        "    std = np.std(data[-window:])\n",
        "    upper_band = sma + 2 * std\n",
        "    lower_band = sma - 2 * std\n",
        "    return upper_band, lower_band\n",
        "\n",
        "# Load historical stock data\n",
        "df = yf.download(\"TSLA\", start=\"2015-01-01\", end=\"2023-03-31\")\n",
        "\n",
        "\n",
        "# Calculate the 14-day RSI\n",
        "df['rsi'] = relative_strength_index(df['Close'], 14)\n",
        "\n",
        "# Calculate the 20-day moving average and the upper and lower Bollinger Bands\n",
        "df['sma20'] = moving_average(df['Close'], 20)\n",
        "df['upper_band'], df['lower_band'] = bollinger_bands(df['Close'], 20)\n",
        "\n",
        "# Define function to execute trading strategy\n",
        "def trading_strategy(df):\n",
        "    if df['Close'][-1] > df['sma20'][-1] and df['rsi'][-1] > 50:\n",
        "        return 'Buy'\n",
        "    elif df['Close'][-1] < df['lower_band'][-1]:\n",
        "        return 'Buy'\n",
        "    elif df['Close'][-1] < df['sma20'][-1] and df['rsi'][-1] < 50:\n",
        "        return 'Sell'\n",
        "    elif df['Close'][-1] > df['upper_band'][-1]:\n",
        "        return 'Sell'\n",
        "    else:\n",
        "        return 'Hold'\n",
        "\n",
        "# Execute trading strategy on the latest data\n",
        "print(trading_strategy(df.tail(1)))\n",
        "\n",
        "\n",
        "\n"
      ],
      "metadata": {
        "id": "ZNNoiFOAHbij"
      },
      "execution_count": null,
      "outputs": []
    },
    {
      "cell_type": "code",
      "source": [
        "'''\n",
        "This code downloads the historical stock data for Tesla from Yahoo Finance, computes the simple moving average (SMA) over a window size of 20 days,\n",
        "generates buy and sell signals based on the SMA crossover, computes the daily returns based on the trading signals, and computes the cumulative returns over time.\n",
        "The final output is the cumulative returns of the trading strategy over the entire time period.\n",
        "Keep in mind that this is just a simple example and should not be used for actual trading without proper testing and validation.\n",
        "'''\n",
        "import yfinance as yf\n",
        "\n",
        "# Define the stock symbol and moving average window size\n",
        "stock_symbol = 'TSLA'\n",
        "window_size = 20\n",
        "\n",
        "# Download the historical stock data from Yahoo Finance\n",
        "stock_data = yf.download(stock_symbol, start='2020-01-01')\n",
        "\n",
        "# Compute the simple moving average (SMA) over the window size\n",
        "stock_data['SMA'] = stock_data['Close'].rolling(window=window_size).mean()\n",
        "\n",
        "# Initialize the trading signals\n",
        "stock_data['Signal'] = 0.0\n",
        "\n",
        "# Generate the buy and sell signals based on the SMA crossover\n",
        "for i in range(window_size, len(stock_data)):\n",
        "    if stock_data['SMA'][i] > stock_data['SMA'][i - 1]:\n",
        "        stock_data['Signal'][i] = 1.0\n",
        "    elif stock_data['SMA'][i] < stock_data['SMA'][i - 1]:\n",
        "        stock_data['Signal'][i] = -1.0\n",
        "\n",
        "# Compute the daily returns based on the trading signals\n",
        "stock_data['Returns'] = stock_data['Close'].pct_change() * stock_data['Signal'].shift(1)\n",
        "\n",
        "# Compute the cumulative returns over time\n",
        "stock_data['Cumulative Returns'] = (1 + stock_data['Returns']).cumprod()\n",
        "\n",
        "# Print the final cumulative returns\n",
        "print('Cumulative returns:', stock_data['Cumulative Returns'][-1])\n"
      ],
      "metadata": {
        "colab": {
          "base_uri": "https://localhost:8080/"
        },
        "id": "rtIcmpSLac9I",
        "outputId": "5501f6a6-3eb0-430a-82b7-4ffcfd154dec"
      },
      "execution_count": null,
      "outputs": [
        {
          "output_type": "stream",
          "name": "stdout",
          "text": [
            "\r[*********************100%***********************]  1 of 1 completed\n",
            "Cumulative returns: 10.663141840036031\n"
          ]
        },
        {
          "output_type": "stream",
          "name": "stderr",
          "text": [
            "<ipython-input-11-44d66408df64>:25: SettingWithCopyWarning: \n",
            "A value is trying to be set on a copy of a slice from a DataFrame\n",
            "\n",
            "See the caveats in the documentation: https://pandas.pydata.org/pandas-docs/stable/user_guide/indexing.html#returning-a-view-versus-a-copy\n",
            "  stock_data['Signal'][i] = 1.0\n",
            "<ipython-input-11-44d66408df64>:27: SettingWithCopyWarning: \n",
            "A value is trying to be set on a copy of a slice from a DataFrame\n",
            "\n",
            "See the caveats in the documentation: https://pandas.pydata.org/pandas-docs/stable/user_guide/indexing.html#returning-a-view-versus-a-copy\n",
            "  stock_data['Signal'][i] = -1.0\n"
          ]
        }
      ]
    }
  ]
}